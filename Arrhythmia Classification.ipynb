{
 "cells": [
  {
   "cell_type": "markdown",
   "metadata": {},
   "source": [
    "## MIT-BIH Arrhythmia Dataset"
   ]
  },
  {
   "cell_type": "markdown",
   "metadata": {},
   "source": [
    "### Dataset Description\n",
    "\n",
    "- The MIT-BIH Arrhythmia Database contains 48 half-hour excerpts of two-channel ambulatory ECG recordings, obtained from 47 subjects studied by the BIH Arrhythmia Laboratory between 1975 and 1979. \n",
    "- Twenty-three recordings were chosen at random from a set of 4000 24-hour ambulatory ECG recordings collected from a mixed population of inpatients (about 60%) and outpatients (about 40%) at Boston's Beth Israel Hospital; the remaining 25 recordings were selected from the same set to include less common but clinically significant arrhythmias that would not be well-represented in a small random sample."
   ]
  },
  {
   "cell_type": "code",
   "execution_count": 1,
   "metadata": {
    "colab": {
     "base_uri": "https://localhost:8080/",
     "height": 35
    },
    "colab_type": "code",
    "id": "r8lU0EUoveKX",
    "outputId": "ef8b44b4-5cb4-4971-ae3e-ccb2daa96788"
   },
   "outputs": [],
   "source": [
    "import os    \n",
    "\n",
    "# Ignore the line below. The system I used here had an AMD 520 GPU. \n",
    "# PlaidML was used to perform the tensor calculations\n",
    "os.environ[\"KERAS_BACKEND\"] = \"plaidml.keras.backend\""
   ]
  },
  {
   "cell_type": "markdown",
   "metadata": {},
   "source": [
    "### Import Dependencies"
   ]
  },
  {
   "cell_type": "code",
   "execution_count": 2,
   "metadata": {
    "colab": {
     "base_uri": "https://localhost:8080/",
     "height": 35
    },
    "colab_type": "code",
    "id": "7RrMitm-vW0A",
    "outputId": "b0b81e7c-b3f1-4dcd-e517-f83442e295fd"
   },
   "outputs": [
    {
     "name": "stderr",
     "output_type": "stream",
     "text": [
      "Using plaidml.keras.backend backend.\n"
     ]
    }
   ],
   "source": [
    "import math\n",
    "import random\n",
    "import itertools\n",
    "import numpy as np\n",
    "np. random.seed(42)\n",
    "import pandas as pd\n",
    "import matplotlib.pyplot as plt\n",
    "import pickle\n",
    "\n",
    "from sklearn.metrics import accuracy_score \n",
    "from sklearn.metrics import classification_report \n",
    "from sklearn.metrics import confusion_matrix\n",
    "from sklearn.metrics import label_ranking_average_precision_score \n",
    "from sklearn.metrics import label_ranking_loss \n",
    "from sklearn.metrics import coverage_error\n",
    "from sklearn.utils import shuffle\n",
    "from scipy.signal import resample\n",
    "from sklearn.preprocessing import OneHotEncoder\n",
    "\n",
    "from keras.models import Model\n",
    "from keras.layers import Input \n",
    "from keras.layers import Dense \n",
    "from keras.layers import Conv1D \n",
    "from keras.layers import MaxPooling1D \n",
    "from keras.layers import Softmax \n",
    "from keras.layers import Add\n",
    "from keras.layers import Flatten \n",
    "from keras.layers import Activation\n",
    "from keras import backend as K\n",
    "from keras.optimizers import Adam\n",
    "from keras.callbacks import EarlyStopping, ReduceLROnPlateau, ModelCheckpoint"
   ]
  },
  {
   "cell_type": "markdown",
   "metadata": {},
   "source": [
    "### Read the Data"
   ]
  },
  {
   "cell_type": "code",
   "execution_count": 3,
   "metadata": {
    "colab": {},
    "colab_type": "code",
    "id": "Hmnwh9uOvW0M"
   },
   "outputs": [],
   "source": [
    "df = pd.read_csv(\"Dataset/mitbih_train.csv\", header = None)\n",
    "df2 = pd.read_csv(\"Dataset/mitbih_test.csv\", header = None)\n",
    "df = pd.concat([df, df2], axis = 0)"
   ]
  },
  {
   "cell_type": "code",
   "execution_count": 4,
   "metadata": {
    "colab": {
     "base_uri": "https://localhost:8080/",
     "height": 444
    },
    "colab_type": "code",
    "id": "3WU-Yz5ovW0S",
    "outputId": "42a70c6e-78dc-48ba-c616-8b2dd52c5a99"
   },
   "outputs": [
    {
     "data": {
      "text/html": [
       "<div>\n",
       "<style scoped>\n",
       "    .dataframe tbody tr th:only-of-type {\n",
       "        vertical-align: middle;\n",
       "    }\n",
       "\n",
       "    .dataframe tbody tr th {\n",
       "        vertical-align: top;\n",
       "    }\n",
       "\n",
       "    .dataframe thead th {\n",
       "        text-align: right;\n",
       "    }\n",
       "</style>\n",
       "<table border=\"1\" class=\"dataframe\">\n",
       "  <thead>\n",
       "    <tr style=\"text-align: right;\">\n",
       "      <th></th>\n",
       "      <th>0</th>\n",
       "      <th>1</th>\n",
       "      <th>2</th>\n",
       "      <th>3</th>\n",
       "      <th>4</th>\n",
       "      <th>5</th>\n",
       "      <th>6</th>\n",
       "      <th>7</th>\n",
       "      <th>8</th>\n",
       "      <th>9</th>\n",
       "      <th>...</th>\n",
       "      <th>178</th>\n",
       "      <th>179</th>\n",
       "      <th>180</th>\n",
       "      <th>181</th>\n",
       "      <th>182</th>\n",
       "      <th>183</th>\n",
       "      <th>184</th>\n",
       "      <th>185</th>\n",
       "      <th>186</th>\n",
       "      <th>187</th>\n",
       "    </tr>\n",
       "  </thead>\n",
       "  <tbody>\n",
       "    <tr>\n",
       "      <th>0</th>\n",
       "      <td>0.977941</td>\n",
       "      <td>0.926471</td>\n",
       "      <td>0.681373</td>\n",
       "      <td>0.245098</td>\n",
       "      <td>0.154412</td>\n",
       "      <td>0.191176</td>\n",
       "      <td>0.151961</td>\n",
       "      <td>0.085784</td>\n",
       "      <td>0.058824</td>\n",
       "      <td>0.049020</td>\n",
       "      <td>...</td>\n",
       "      <td>0.0</td>\n",
       "      <td>0.0</td>\n",
       "      <td>0.0</td>\n",
       "      <td>0.0</td>\n",
       "      <td>0.0</td>\n",
       "      <td>0.0</td>\n",
       "      <td>0.0</td>\n",
       "      <td>0.0</td>\n",
       "      <td>0.0</td>\n",
       "      <td>0.0</td>\n",
       "    </tr>\n",
       "    <tr>\n",
       "      <th>1</th>\n",
       "      <td>0.960114</td>\n",
       "      <td>0.863248</td>\n",
       "      <td>0.461538</td>\n",
       "      <td>0.196581</td>\n",
       "      <td>0.094017</td>\n",
       "      <td>0.125356</td>\n",
       "      <td>0.099715</td>\n",
       "      <td>0.088319</td>\n",
       "      <td>0.074074</td>\n",
       "      <td>0.082621</td>\n",
       "      <td>...</td>\n",
       "      <td>0.0</td>\n",
       "      <td>0.0</td>\n",
       "      <td>0.0</td>\n",
       "      <td>0.0</td>\n",
       "      <td>0.0</td>\n",
       "      <td>0.0</td>\n",
       "      <td>0.0</td>\n",
       "      <td>0.0</td>\n",
       "      <td>0.0</td>\n",
       "      <td>0.0</td>\n",
       "    </tr>\n",
       "    <tr>\n",
       "      <th>2</th>\n",
       "      <td>1.000000</td>\n",
       "      <td>0.659459</td>\n",
       "      <td>0.186486</td>\n",
       "      <td>0.070270</td>\n",
       "      <td>0.070270</td>\n",
       "      <td>0.059459</td>\n",
       "      <td>0.056757</td>\n",
       "      <td>0.043243</td>\n",
       "      <td>0.054054</td>\n",
       "      <td>0.045946</td>\n",
       "      <td>...</td>\n",
       "      <td>0.0</td>\n",
       "      <td>0.0</td>\n",
       "      <td>0.0</td>\n",
       "      <td>0.0</td>\n",
       "      <td>0.0</td>\n",
       "      <td>0.0</td>\n",
       "      <td>0.0</td>\n",
       "      <td>0.0</td>\n",
       "      <td>0.0</td>\n",
       "      <td>0.0</td>\n",
       "    </tr>\n",
       "    <tr>\n",
       "      <th>3</th>\n",
       "      <td>0.925414</td>\n",
       "      <td>0.665746</td>\n",
       "      <td>0.541436</td>\n",
       "      <td>0.276243</td>\n",
       "      <td>0.196133</td>\n",
       "      <td>0.077348</td>\n",
       "      <td>0.071823</td>\n",
       "      <td>0.060773</td>\n",
       "      <td>0.066298</td>\n",
       "      <td>0.058011</td>\n",
       "      <td>...</td>\n",
       "      <td>0.0</td>\n",
       "      <td>0.0</td>\n",
       "      <td>0.0</td>\n",
       "      <td>0.0</td>\n",
       "      <td>0.0</td>\n",
       "      <td>0.0</td>\n",
       "      <td>0.0</td>\n",
       "      <td>0.0</td>\n",
       "      <td>0.0</td>\n",
       "      <td>0.0</td>\n",
       "    </tr>\n",
       "    <tr>\n",
       "      <th>4</th>\n",
       "      <td>0.967136</td>\n",
       "      <td>1.000000</td>\n",
       "      <td>0.830986</td>\n",
       "      <td>0.586854</td>\n",
       "      <td>0.356808</td>\n",
       "      <td>0.248826</td>\n",
       "      <td>0.145540</td>\n",
       "      <td>0.089202</td>\n",
       "      <td>0.117371</td>\n",
       "      <td>0.150235</td>\n",
       "      <td>...</td>\n",
       "      <td>0.0</td>\n",
       "      <td>0.0</td>\n",
       "      <td>0.0</td>\n",
       "      <td>0.0</td>\n",
       "      <td>0.0</td>\n",
       "      <td>0.0</td>\n",
       "      <td>0.0</td>\n",
       "      <td>0.0</td>\n",
       "      <td>0.0</td>\n",
       "      <td>0.0</td>\n",
       "    </tr>\n",
       "    <tr>\n",
       "      <th>...</th>\n",
       "      <td>...</td>\n",
       "      <td>...</td>\n",
       "      <td>...</td>\n",
       "      <td>...</td>\n",
       "      <td>...</td>\n",
       "      <td>...</td>\n",
       "      <td>...</td>\n",
       "      <td>...</td>\n",
       "      <td>...</td>\n",
       "      <td>...</td>\n",
       "      <td>...</td>\n",
       "      <td>...</td>\n",
       "      <td>...</td>\n",
       "      <td>...</td>\n",
       "      <td>...</td>\n",
       "      <td>...</td>\n",
       "      <td>...</td>\n",
       "      <td>...</td>\n",
       "      <td>...</td>\n",
       "      <td>...</td>\n",
       "      <td>...</td>\n",
       "    </tr>\n",
       "    <tr>\n",
       "      <th>21887</th>\n",
       "      <td>0.928736</td>\n",
       "      <td>0.871264</td>\n",
       "      <td>0.804598</td>\n",
       "      <td>0.742529</td>\n",
       "      <td>0.650575</td>\n",
       "      <td>0.535632</td>\n",
       "      <td>0.394253</td>\n",
       "      <td>0.250575</td>\n",
       "      <td>0.140230</td>\n",
       "      <td>0.102299</td>\n",
       "      <td>...</td>\n",
       "      <td>0.0</td>\n",
       "      <td>0.0</td>\n",
       "      <td>0.0</td>\n",
       "      <td>0.0</td>\n",
       "      <td>0.0</td>\n",
       "      <td>0.0</td>\n",
       "      <td>0.0</td>\n",
       "      <td>0.0</td>\n",
       "      <td>0.0</td>\n",
       "      <td>4.0</td>\n",
       "    </tr>\n",
       "    <tr>\n",
       "      <th>21888</th>\n",
       "      <td>0.802691</td>\n",
       "      <td>0.692078</td>\n",
       "      <td>0.587444</td>\n",
       "      <td>0.446936</td>\n",
       "      <td>0.318386</td>\n",
       "      <td>0.189836</td>\n",
       "      <td>0.118087</td>\n",
       "      <td>0.077728</td>\n",
       "      <td>0.112108</td>\n",
       "      <td>0.152466</td>\n",
       "      <td>...</td>\n",
       "      <td>0.0</td>\n",
       "      <td>0.0</td>\n",
       "      <td>0.0</td>\n",
       "      <td>0.0</td>\n",
       "      <td>0.0</td>\n",
       "      <td>0.0</td>\n",
       "      <td>0.0</td>\n",
       "      <td>0.0</td>\n",
       "      <td>0.0</td>\n",
       "      <td>4.0</td>\n",
       "    </tr>\n",
       "    <tr>\n",
       "      <th>21889</th>\n",
       "      <td>1.000000</td>\n",
       "      <td>0.967359</td>\n",
       "      <td>0.620178</td>\n",
       "      <td>0.347181</td>\n",
       "      <td>0.139466</td>\n",
       "      <td>0.089021</td>\n",
       "      <td>0.103858</td>\n",
       "      <td>0.100890</td>\n",
       "      <td>0.106825</td>\n",
       "      <td>0.100890</td>\n",
       "      <td>...</td>\n",
       "      <td>0.0</td>\n",
       "      <td>0.0</td>\n",
       "      <td>0.0</td>\n",
       "      <td>0.0</td>\n",
       "      <td>0.0</td>\n",
       "      <td>0.0</td>\n",
       "      <td>0.0</td>\n",
       "      <td>0.0</td>\n",
       "      <td>0.0</td>\n",
       "      <td>4.0</td>\n",
       "    </tr>\n",
       "    <tr>\n",
       "      <th>21890</th>\n",
       "      <td>0.984127</td>\n",
       "      <td>0.567460</td>\n",
       "      <td>0.607143</td>\n",
       "      <td>0.583333</td>\n",
       "      <td>0.607143</td>\n",
       "      <td>0.575397</td>\n",
       "      <td>0.575397</td>\n",
       "      <td>0.488095</td>\n",
       "      <td>0.392857</td>\n",
       "      <td>0.238095</td>\n",
       "      <td>...</td>\n",
       "      <td>0.0</td>\n",
       "      <td>0.0</td>\n",
       "      <td>0.0</td>\n",
       "      <td>0.0</td>\n",
       "      <td>0.0</td>\n",
       "      <td>0.0</td>\n",
       "      <td>0.0</td>\n",
       "      <td>0.0</td>\n",
       "      <td>0.0</td>\n",
       "      <td>4.0</td>\n",
       "    </tr>\n",
       "    <tr>\n",
       "      <th>21891</th>\n",
       "      <td>0.973970</td>\n",
       "      <td>0.913232</td>\n",
       "      <td>0.865510</td>\n",
       "      <td>0.823210</td>\n",
       "      <td>0.746204</td>\n",
       "      <td>0.642082</td>\n",
       "      <td>0.547722</td>\n",
       "      <td>0.426247</td>\n",
       "      <td>0.325380</td>\n",
       "      <td>0.279826</td>\n",
       "      <td>...</td>\n",
       "      <td>0.0</td>\n",
       "      <td>0.0</td>\n",
       "      <td>0.0</td>\n",
       "      <td>0.0</td>\n",
       "      <td>0.0</td>\n",
       "      <td>0.0</td>\n",
       "      <td>0.0</td>\n",
       "      <td>0.0</td>\n",
       "      <td>0.0</td>\n",
       "      <td>4.0</td>\n",
       "    </tr>\n",
       "  </tbody>\n",
       "</table>\n",
       "<p>109446 rows × 188 columns</p>\n",
       "</div>"
      ],
      "text/plain": [
       "            0         1         2         3         4         5         6    \\\n",
       "0      0.977941  0.926471  0.681373  0.245098  0.154412  0.191176  0.151961   \n",
       "1      0.960114  0.863248  0.461538  0.196581  0.094017  0.125356  0.099715   \n",
       "2      1.000000  0.659459  0.186486  0.070270  0.070270  0.059459  0.056757   \n",
       "3      0.925414  0.665746  0.541436  0.276243  0.196133  0.077348  0.071823   \n",
       "4      0.967136  1.000000  0.830986  0.586854  0.356808  0.248826  0.145540   \n",
       "...         ...       ...       ...       ...       ...       ...       ...   \n",
       "21887  0.928736  0.871264  0.804598  0.742529  0.650575  0.535632  0.394253   \n",
       "21888  0.802691  0.692078  0.587444  0.446936  0.318386  0.189836  0.118087   \n",
       "21889  1.000000  0.967359  0.620178  0.347181  0.139466  0.089021  0.103858   \n",
       "21890  0.984127  0.567460  0.607143  0.583333  0.607143  0.575397  0.575397   \n",
       "21891  0.973970  0.913232  0.865510  0.823210  0.746204  0.642082  0.547722   \n",
       "\n",
       "            7         8         9    ...  178  179  180  181  182  183  184  \\\n",
       "0      0.085784  0.058824  0.049020  ...  0.0  0.0  0.0  0.0  0.0  0.0  0.0   \n",
       "1      0.088319  0.074074  0.082621  ...  0.0  0.0  0.0  0.0  0.0  0.0  0.0   \n",
       "2      0.043243  0.054054  0.045946  ...  0.0  0.0  0.0  0.0  0.0  0.0  0.0   \n",
       "3      0.060773  0.066298  0.058011  ...  0.0  0.0  0.0  0.0  0.0  0.0  0.0   \n",
       "4      0.089202  0.117371  0.150235  ...  0.0  0.0  0.0  0.0  0.0  0.0  0.0   \n",
       "...         ...       ...       ...  ...  ...  ...  ...  ...  ...  ...  ...   \n",
       "21887  0.250575  0.140230  0.102299  ...  0.0  0.0  0.0  0.0  0.0  0.0  0.0   \n",
       "21888  0.077728  0.112108  0.152466  ...  0.0  0.0  0.0  0.0  0.0  0.0  0.0   \n",
       "21889  0.100890  0.106825  0.100890  ...  0.0  0.0  0.0  0.0  0.0  0.0  0.0   \n",
       "21890  0.488095  0.392857  0.238095  ...  0.0  0.0  0.0  0.0  0.0  0.0  0.0   \n",
       "21891  0.426247  0.325380  0.279826  ...  0.0  0.0  0.0  0.0  0.0  0.0  0.0   \n",
       "\n",
       "       185  186  187  \n",
       "0      0.0  0.0  0.0  \n",
       "1      0.0  0.0  0.0  \n",
       "2      0.0  0.0  0.0  \n",
       "3      0.0  0.0  0.0  \n",
       "4      0.0  0.0  0.0  \n",
       "...    ...  ...  ...  \n",
       "21887  0.0  0.0  4.0  \n",
       "21888  0.0  0.0  4.0  \n",
       "21889  0.0  0.0  4.0  \n",
       "21890  0.0  0.0  4.0  \n",
       "21891  0.0  0.0  4.0  \n",
       "\n",
       "[109446 rows x 188 columns]"
      ]
     },
     "execution_count": 4,
     "metadata": {},
     "output_type": "execute_result"
    }
   ],
   "source": [
    "df"
   ]
  },
  {
   "cell_type": "code",
   "execution_count": 5,
   "metadata": {
    "colab": {
     "base_uri": "https://localhost:8080/",
     "height": 444
    },
    "colab_type": "code",
    "id": "hx9rvQdLvW0X",
    "outputId": "4f19b50a-6194-4473-c3e5-b39ae98641c0"
   },
   "outputs": [
    {
     "data": {
      "text/html": [
       "<div>\n",
       "<style scoped>\n",
       "    .dataframe tbody tr th:only-of-type {\n",
       "        vertical-align: middle;\n",
       "    }\n",
       "\n",
       "    .dataframe tbody tr th {\n",
       "        vertical-align: top;\n",
       "    }\n",
       "\n",
       "    .dataframe thead th {\n",
       "        text-align: right;\n",
       "    }\n",
       "</style>\n",
       "<table border=\"1\" class=\"dataframe\">\n",
       "  <thead>\n",
       "    <tr style=\"text-align: right;\">\n",
       "      <th></th>\n",
       "      <th>0</th>\n",
       "      <th>1</th>\n",
       "      <th>2</th>\n",
       "      <th>3</th>\n",
       "      <th>4</th>\n",
       "      <th>5</th>\n",
       "      <th>6</th>\n",
       "      <th>7</th>\n",
       "      <th>8</th>\n",
       "      <th>9</th>\n",
       "      <th>...</th>\n",
       "      <th>178</th>\n",
       "      <th>179</th>\n",
       "      <th>180</th>\n",
       "      <th>181</th>\n",
       "      <th>182</th>\n",
       "      <th>183</th>\n",
       "      <th>184</th>\n",
       "      <th>185</th>\n",
       "      <th>186</th>\n",
       "      <th>187</th>\n",
       "    </tr>\n",
       "  </thead>\n",
       "  <tbody>\n",
       "    <tr>\n",
       "      <th>0</th>\n",
       "      <td>1.000000</td>\n",
       "      <td>0.758264</td>\n",
       "      <td>0.111570</td>\n",
       "      <td>0.000000</td>\n",
       "      <td>0.080579</td>\n",
       "      <td>0.078512</td>\n",
       "      <td>0.066116</td>\n",
       "      <td>0.049587</td>\n",
       "      <td>0.047521</td>\n",
       "      <td>0.035124</td>\n",
       "      <td>...</td>\n",
       "      <td>0.0</td>\n",
       "      <td>0.0</td>\n",
       "      <td>0.0</td>\n",
       "      <td>0.0</td>\n",
       "      <td>0.0</td>\n",
       "      <td>0.0</td>\n",
       "      <td>0.0</td>\n",
       "      <td>0.0</td>\n",
       "      <td>0.0</td>\n",
       "      <td>0.0</td>\n",
       "    </tr>\n",
       "    <tr>\n",
       "      <th>1</th>\n",
       "      <td>0.908425</td>\n",
       "      <td>0.783883</td>\n",
       "      <td>0.531136</td>\n",
       "      <td>0.362637</td>\n",
       "      <td>0.366300</td>\n",
       "      <td>0.344322</td>\n",
       "      <td>0.333333</td>\n",
       "      <td>0.307692</td>\n",
       "      <td>0.296703</td>\n",
       "      <td>0.300366</td>\n",
       "      <td>...</td>\n",
       "      <td>0.0</td>\n",
       "      <td>0.0</td>\n",
       "      <td>0.0</td>\n",
       "      <td>0.0</td>\n",
       "      <td>0.0</td>\n",
       "      <td>0.0</td>\n",
       "      <td>0.0</td>\n",
       "      <td>0.0</td>\n",
       "      <td>0.0</td>\n",
       "      <td>0.0</td>\n",
       "    </tr>\n",
       "    <tr>\n",
       "      <th>2</th>\n",
       "      <td>0.730088</td>\n",
       "      <td>0.212389</td>\n",
       "      <td>0.000000</td>\n",
       "      <td>0.119469</td>\n",
       "      <td>0.101770</td>\n",
       "      <td>0.101770</td>\n",
       "      <td>0.110619</td>\n",
       "      <td>0.123894</td>\n",
       "      <td>0.115044</td>\n",
       "      <td>0.132743</td>\n",
       "      <td>...</td>\n",
       "      <td>0.0</td>\n",
       "      <td>0.0</td>\n",
       "      <td>0.0</td>\n",
       "      <td>0.0</td>\n",
       "      <td>0.0</td>\n",
       "      <td>0.0</td>\n",
       "      <td>0.0</td>\n",
       "      <td>0.0</td>\n",
       "      <td>0.0</td>\n",
       "      <td>0.0</td>\n",
       "    </tr>\n",
       "    <tr>\n",
       "      <th>3</th>\n",
       "      <td>1.000000</td>\n",
       "      <td>0.910417</td>\n",
       "      <td>0.681250</td>\n",
       "      <td>0.472917</td>\n",
       "      <td>0.229167</td>\n",
       "      <td>0.068750</td>\n",
       "      <td>0.000000</td>\n",
       "      <td>0.004167</td>\n",
       "      <td>0.014583</td>\n",
       "      <td>0.054167</td>\n",
       "      <td>...</td>\n",
       "      <td>0.0</td>\n",
       "      <td>0.0</td>\n",
       "      <td>0.0</td>\n",
       "      <td>0.0</td>\n",
       "      <td>0.0</td>\n",
       "      <td>0.0</td>\n",
       "      <td>0.0</td>\n",
       "      <td>0.0</td>\n",
       "      <td>0.0</td>\n",
       "      <td>0.0</td>\n",
       "    </tr>\n",
       "    <tr>\n",
       "      <th>4</th>\n",
       "      <td>0.570470</td>\n",
       "      <td>0.399329</td>\n",
       "      <td>0.238255</td>\n",
       "      <td>0.147651</td>\n",
       "      <td>0.000000</td>\n",
       "      <td>0.003356</td>\n",
       "      <td>0.040268</td>\n",
       "      <td>0.080537</td>\n",
       "      <td>0.070470</td>\n",
       "      <td>0.090604</td>\n",
       "      <td>...</td>\n",
       "      <td>0.0</td>\n",
       "      <td>0.0</td>\n",
       "      <td>0.0</td>\n",
       "      <td>0.0</td>\n",
       "      <td>0.0</td>\n",
       "      <td>0.0</td>\n",
       "      <td>0.0</td>\n",
       "      <td>0.0</td>\n",
       "      <td>0.0</td>\n",
       "      <td>0.0</td>\n",
       "    </tr>\n",
       "    <tr>\n",
       "      <th>...</th>\n",
       "      <td>...</td>\n",
       "      <td>...</td>\n",
       "      <td>...</td>\n",
       "      <td>...</td>\n",
       "      <td>...</td>\n",
       "      <td>...</td>\n",
       "      <td>...</td>\n",
       "      <td>...</td>\n",
       "      <td>...</td>\n",
       "      <td>...</td>\n",
       "      <td>...</td>\n",
       "      <td>...</td>\n",
       "      <td>...</td>\n",
       "      <td>...</td>\n",
       "      <td>...</td>\n",
       "      <td>...</td>\n",
       "      <td>...</td>\n",
       "      <td>...</td>\n",
       "      <td>...</td>\n",
       "      <td>...</td>\n",
       "      <td>...</td>\n",
       "    </tr>\n",
       "    <tr>\n",
       "      <th>21887</th>\n",
       "      <td>0.928736</td>\n",
       "      <td>0.871264</td>\n",
       "      <td>0.804598</td>\n",
       "      <td>0.742529</td>\n",
       "      <td>0.650575</td>\n",
       "      <td>0.535632</td>\n",
       "      <td>0.394253</td>\n",
       "      <td>0.250575</td>\n",
       "      <td>0.140230</td>\n",
       "      <td>0.102299</td>\n",
       "      <td>...</td>\n",
       "      <td>0.0</td>\n",
       "      <td>0.0</td>\n",
       "      <td>0.0</td>\n",
       "      <td>0.0</td>\n",
       "      <td>0.0</td>\n",
       "      <td>0.0</td>\n",
       "      <td>0.0</td>\n",
       "      <td>0.0</td>\n",
       "      <td>0.0</td>\n",
       "      <td>4.0</td>\n",
       "    </tr>\n",
       "    <tr>\n",
       "      <th>21888</th>\n",
       "      <td>0.802691</td>\n",
       "      <td>0.692078</td>\n",
       "      <td>0.587444</td>\n",
       "      <td>0.446936</td>\n",
       "      <td>0.318386</td>\n",
       "      <td>0.189836</td>\n",
       "      <td>0.118087</td>\n",
       "      <td>0.077728</td>\n",
       "      <td>0.112108</td>\n",
       "      <td>0.152466</td>\n",
       "      <td>...</td>\n",
       "      <td>0.0</td>\n",
       "      <td>0.0</td>\n",
       "      <td>0.0</td>\n",
       "      <td>0.0</td>\n",
       "      <td>0.0</td>\n",
       "      <td>0.0</td>\n",
       "      <td>0.0</td>\n",
       "      <td>0.0</td>\n",
       "      <td>0.0</td>\n",
       "      <td>4.0</td>\n",
       "    </tr>\n",
       "    <tr>\n",
       "      <th>21889</th>\n",
       "      <td>1.000000</td>\n",
       "      <td>0.967359</td>\n",
       "      <td>0.620178</td>\n",
       "      <td>0.347181</td>\n",
       "      <td>0.139466</td>\n",
       "      <td>0.089021</td>\n",
       "      <td>0.103858</td>\n",
       "      <td>0.100890</td>\n",
       "      <td>0.106825</td>\n",
       "      <td>0.100890</td>\n",
       "      <td>...</td>\n",
       "      <td>0.0</td>\n",
       "      <td>0.0</td>\n",
       "      <td>0.0</td>\n",
       "      <td>0.0</td>\n",
       "      <td>0.0</td>\n",
       "      <td>0.0</td>\n",
       "      <td>0.0</td>\n",
       "      <td>0.0</td>\n",
       "      <td>0.0</td>\n",
       "      <td>4.0</td>\n",
       "    </tr>\n",
       "    <tr>\n",
       "      <th>21890</th>\n",
       "      <td>0.984127</td>\n",
       "      <td>0.567460</td>\n",
       "      <td>0.607143</td>\n",
       "      <td>0.583333</td>\n",
       "      <td>0.607143</td>\n",
       "      <td>0.575397</td>\n",
       "      <td>0.575397</td>\n",
       "      <td>0.488095</td>\n",
       "      <td>0.392857</td>\n",
       "      <td>0.238095</td>\n",
       "      <td>...</td>\n",
       "      <td>0.0</td>\n",
       "      <td>0.0</td>\n",
       "      <td>0.0</td>\n",
       "      <td>0.0</td>\n",
       "      <td>0.0</td>\n",
       "      <td>0.0</td>\n",
       "      <td>0.0</td>\n",
       "      <td>0.0</td>\n",
       "      <td>0.0</td>\n",
       "      <td>4.0</td>\n",
       "    </tr>\n",
       "    <tr>\n",
       "      <th>21891</th>\n",
       "      <td>0.973970</td>\n",
       "      <td>0.913232</td>\n",
       "      <td>0.865510</td>\n",
       "      <td>0.823210</td>\n",
       "      <td>0.746204</td>\n",
       "      <td>0.642082</td>\n",
       "      <td>0.547722</td>\n",
       "      <td>0.426247</td>\n",
       "      <td>0.325380</td>\n",
       "      <td>0.279826</td>\n",
       "      <td>...</td>\n",
       "      <td>0.0</td>\n",
       "      <td>0.0</td>\n",
       "      <td>0.0</td>\n",
       "      <td>0.0</td>\n",
       "      <td>0.0</td>\n",
       "      <td>0.0</td>\n",
       "      <td>0.0</td>\n",
       "      <td>0.0</td>\n",
       "      <td>0.0</td>\n",
       "      <td>4.0</td>\n",
       "    </tr>\n",
       "  </tbody>\n",
       "</table>\n",
       "<p>21892 rows × 188 columns</p>\n",
       "</div>"
      ],
      "text/plain": [
       "            0         1         2         3         4         5         6    \\\n",
       "0      1.000000  0.758264  0.111570  0.000000  0.080579  0.078512  0.066116   \n",
       "1      0.908425  0.783883  0.531136  0.362637  0.366300  0.344322  0.333333   \n",
       "2      0.730088  0.212389  0.000000  0.119469  0.101770  0.101770  0.110619   \n",
       "3      1.000000  0.910417  0.681250  0.472917  0.229167  0.068750  0.000000   \n",
       "4      0.570470  0.399329  0.238255  0.147651  0.000000  0.003356  0.040268   \n",
       "...         ...       ...       ...       ...       ...       ...       ...   \n",
       "21887  0.928736  0.871264  0.804598  0.742529  0.650575  0.535632  0.394253   \n",
       "21888  0.802691  0.692078  0.587444  0.446936  0.318386  0.189836  0.118087   \n",
       "21889  1.000000  0.967359  0.620178  0.347181  0.139466  0.089021  0.103858   \n",
       "21890  0.984127  0.567460  0.607143  0.583333  0.607143  0.575397  0.575397   \n",
       "21891  0.973970  0.913232  0.865510  0.823210  0.746204  0.642082  0.547722   \n",
       "\n",
       "            7         8         9    ...  178  179  180  181  182  183  184  \\\n",
       "0      0.049587  0.047521  0.035124  ...  0.0  0.0  0.0  0.0  0.0  0.0  0.0   \n",
       "1      0.307692  0.296703  0.300366  ...  0.0  0.0  0.0  0.0  0.0  0.0  0.0   \n",
       "2      0.123894  0.115044  0.132743  ...  0.0  0.0  0.0  0.0  0.0  0.0  0.0   \n",
       "3      0.004167  0.014583  0.054167  ...  0.0  0.0  0.0  0.0  0.0  0.0  0.0   \n",
       "4      0.080537  0.070470  0.090604  ...  0.0  0.0  0.0  0.0  0.0  0.0  0.0   \n",
       "...         ...       ...       ...  ...  ...  ...  ...  ...  ...  ...  ...   \n",
       "21887  0.250575  0.140230  0.102299  ...  0.0  0.0  0.0  0.0  0.0  0.0  0.0   \n",
       "21888  0.077728  0.112108  0.152466  ...  0.0  0.0  0.0  0.0  0.0  0.0  0.0   \n",
       "21889  0.100890  0.106825  0.100890  ...  0.0  0.0  0.0  0.0  0.0  0.0  0.0   \n",
       "21890  0.488095  0.392857  0.238095  ...  0.0  0.0  0.0  0.0  0.0  0.0  0.0   \n",
       "21891  0.426247  0.325380  0.279826  ...  0.0  0.0  0.0  0.0  0.0  0.0  0.0   \n",
       "\n",
       "       185  186  187  \n",
       "0      0.0  0.0  0.0  \n",
       "1      0.0  0.0  0.0  \n",
       "2      0.0  0.0  0.0  \n",
       "3      0.0  0.0  0.0  \n",
       "4      0.0  0.0  0.0  \n",
       "...    ...  ...  ...  \n",
       "21887  0.0  0.0  4.0  \n",
       "21888  0.0  0.0  4.0  \n",
       "21889  0.0  0.0  4.0  \n",
       "21890  0.0  0.0  4.0  \n",
       "21891  0.0  0.0  4.0  \n",
       "\n",
       "[21892 rows x 188 columns]"
      ]
     },
     "execution_count": 5,
     "metadata": {},
     "output_type": "execute_result"
    }
   ],
   "source": [
    "df2"
   ]
  },
  {
   "cell_type": "code",
   "execution_count": 6,
   "metadata": {
    "colab": {
     "base_uri": "https://localhost:8080/",
     "height": 108
    },
    "colab_type": "code",
    "id": "0n4IfXKlvW0e",
    "outputId": "561cc427-5705-4f9e-ef37-7997581d2d9e"
   },
   "outputs": [
    {
     "name": "stdout",
     "output_type": "stream",
     "text": [
      "<class 'pandas.core.frame.DataFrame'>\n",
      "Int64Index: 109446 entries, 0 to 21891\n",
      "Columns: 188 entries, 0 to 187\n",
      "dtypes: float64(188)\n",
      "memory usage: 157.8 MB\n"
     ]
    }
   ],
   "source": [
    "df.info()"
   ]
  },
  {
   "cell_type": "code",
   "execution_count": 7,
   "metadata": {
    "colab": {
     "base_uri": "https://localhost:8080/",
     "height": 108
    },
    "colab_type": "code",
    "id": "esmrSLtmvW0l",
    "outputId": "4271ee78-d294-4069-b0ff-57a74786e511"
   },
   "outputs": [
    {
     "name": "stdout",
     "output_type": "stream",
     "text": [
      "<class 'pandas.core.frame.DataFrame'>\n",
      "RangeIndex: 21892 entries, 0 to 21891\n",
      "Columns: 188 entries, 0 to 187\n",
      "dtypes: float64(188)\n",
      "memory usage: 31.4 MB\n"
     ]
    }
   ],
   "source": [
    "df2.info()"
   ]
  },
  {
   "cell_type": "code",
   "execution_count": 8,
   "metadata": {
    "colab": {
     "base_uri": "https://localhost:8080/",
     "height": 126
    },
    "colab_type": "code",
    "id": "dqjBx3-mvW0q",
    "outputId": "ec01e512-4c37-4bec-8106-a412bfe704d2"
   },
   "outputs": [
    {
     "data": {
      "text/plain": [
       "0.0    90589\n",
       "4.0     8039\n",
       "2.0     7236\n",
       "1.0     2779\n",
       "3.0      803\n",
       "Name: 187, dtype: int64"
      ]
     },
     "execution_count": 8,
     "metadata": {},
     "output_type": "execute_result"
    }
   ],
   "source": [
    "df[187].value_counts()"
   ]
  },
  {
   "cell_type": "code",
   "execution_count": 9,
   "metadata": {
    "colab": {},
    "colab_type": "code",
    "id": "J22dB52OvW0v"
   },
   "outputs": [],
   "source": [
    "M = df.values\n",
    "X = M[:, : - 1]\n",
    "y = M[:, -1].astype(int)"
   ]
  },
  {
   "cell_type": "code",
   "execution_count": 10,
   "metadata": {
    "colab": {},
    "colab_type": "code",
    "id": "xrnmqhefvW00"
   },
   "outputs": [],
   "source": [
    "del df\n",
    "del df2\n",
    "del M"
   ]
  },
  {
   "cell_type": "code",
   "execution_count": 11,
   "metadata": {
    "colab": {},
    "colab_type": "code",
    "id": "f-1nwXTovW04"
   },
   "outputs": [],
   "source": [
    "C0 = np.argwhere(y == 0).flatten()\n",
    "C1 = np.argwhere(y == 1).flatten()\n",
    "C2 = np.argwhere(y == 2).flatten()\n",
    "C3 = np.argwhere(y == 3).flatten()\n",
    "C4 = np.argwhere(y == 4).flatten()"
   ]
  },
  {
   "cell_type": "markdown",
   "metadata": {},
   "source": [
    "### Plot One Heartbeat for Every Category"
   ]
  },
  {
   "cell_type": "markdown",
   "metadata": {},
   "source": [
    "The dataset focuses primarily on the following features.\n",
    "-\tThe feature ‘N’ is classified as Normal. \n",
    "-\tThe feature ‘S’ is classified as Supraventricular Ectopic Beat\n",
    "-\tThe feature ‘V’ is classified as Ventricular Ectopic Beat\n",
    "-\tThe feature ‘F’ is classified as Fusion Beat\n",
    "-\tThe feature ‘Q’ is classified as Unknown Beat"
   ]
  },
  {
   "cell_type": "code",
   "execution_count": 12,
   "metadata": {
    "colab": {
     "base_uri": "https://localhost:8080/",
     "height": 735
    },
    "colab_type": "code",
    "id": "J7RQu9eZvW0-",
    "outputId": "5af2130f-b916-4d62-fa7b-4fb5a0636e39"
   },
   "outputs": [
    {
     "data": {
      "image/png": "[encoded data removed]",
      "text/plain": [
       "<Figure size 1440x864 with 1 Axes>"
      ]
     },
     "metadata": {
      "needs_background": "light"
     },
     "output_type": "display_data"
    }
   ],
   "source": [
    "x = np.arange(0, 187) * 8 / 1000\n",
    "\n",
    "plt.figure(figsize = (20, 12))\n",
    "plt.plot(x, X[C0, :][0], label = \"Cat.N\")\n",
    "plt.plot(x, X[C1, :][0], label = \"Cat.S\")\n",
    "plt.plot(x, X[C2, :][0], label = \"Cat.v\")\n",
    "plt.plot(x, X[C3, :][0], label = \"Cat.F\")\n",
    "plt.plot(x, X[C4, :][0], label = \"Cat.Q\")\n",
    "plt.legend\n",
    "plt.title(\"Plot of one Heartbeat of Every category\")\n",
    "plt.xlabel(\"Time(ms)\", fontsize = 15)\n",
    "plt.ylabel(\"Amplitude\", fontsize = 15)\n",
    "plt.show()"
   ]
  },
  {
   "cell_type": "markdown",
   "metadata": {},
   "source": [
    "### Data Pre-processing"
   ]
  },
  {
   "cell_type": "code",
   "execution_count": 13,
   "metadata": {
    "colab": {},
    "colab_type": "code",
    "id": "2ke6hTLhvW1D"
   },
   "outputs": [],
   "source": [
    "def stretch(x):\n",
    "    l = int(187 * (1 + (random.random() - 0.5) / 3))\n",
    "    y = resample(x, l)\n",
    "    if l < 187:\n",
    "        y_ = np.zeros(shape=(187, ))\n",
    "        y_[:l] = y\n",
    "    else:\n",
    "        y_ = y[:187]\n",
    "    return y_"
   ]
  },
  {
   "cell_type": "code",
   "execution_count": 14,
   "metadata": {},
   "outputs": [],
   "source": [
    "def amplify(x):\n",
    "    alpha = (random.random() - 0.5)\n",
    "    factor = -alpha * x + (1 + alpha)\n",
    "    return x * factor"
   ]
  },
  {
   "cell_type": "code",
   "execution_count": 15,
   "metadata": {},
   "outputs": [],
   "source": [
    "def augment(x):\n",
    "    result = np.zeros(shape = (4, 187))\n",
    "    for i in range(3):\n",
    "        if random.random() < 0.33:\n",
    "            new_y = stretch(x)\n",
    "        elif random.random() < 0.66:\n",
    "            new_y = amplify(x)\n",
    "        else:\n",
    "            new_y = stretch(x)\n",
    "            new_y = amplify(new_y)\n",
    "        result[i, :] = new_y\n",
    "    return result"
   ]
  },
  {
   "cell_type": "code",
   "execution_count": 16,
   "metadata": {
    "colab": {
     "base_uri": "https://localhost:8080/",
     "height": 265
    },
    "colab_type": "code",
    "id": "ybZL1scwvW1I",
    "outputId": "85675960-d97d-4189-e734-6aa628851a8e"
   },
   "outputs": [
    {
     "data": {
      "image/png": "[encoded data removed]",
      "text/plain": [
       "<Figure size 432x288 with 1 Axes>"
      ]
     },
     "metadata": {
      "needs_background": "light"
     },
     "output_type": "display_data"
    }
   ],
   "source": [
    "plt.plot(X[0, :])\n",
    "plt.plot(amplify(X[0, :]))\n",
    "plt.plot(stretch(X[0, :]))\n",
    "plt.show()"
   ]
  },
  {
   "cell_type": "code",
   "execution_count": 17,
   "metadata": {
    "colab": {},
    "colab_type": "code",
    "id": "tbux2a_vvW1N"
   },
   "outputs": [],
   "source": [
    "result = np.apply_along_axis(augment, axis = 1, arr = X[C3]).reshape(-1, 187)\n",
    "classe = np.ones(shape = (result.shape[0], ) , dtype = int) * 3\n",
    "X = np.vstack([X, result])\n",
    "y = np.hstack([y, classe])"
   ]
  },
  {
   "cell_type": "code",
   "execution_count": 18,
   "metadata": {
    "colab": {},
    "colab_type": "code",
    "id": "0XrruG48vW1S"
   },
   "outputs": [],
   "source": [
    "subC0 = np.random.choice(C0, 800)\n",
    "subC1 = np.random.choice(C1, 800)\n",
    "subC2 = np.random.choice(C2, 800)\n",
    "subC3 = np.random.choice(C3, 800)\n",
    "subC4 = np.random.choice(C4, 800)"
   ]
  },
  {
   "cell_type": "code",
   "execution_count": 19,
   "metadata": {
    "colab": {},
    "colab_type": "code",
    "id": "UTZ3KXYjvW1X"
   },
   "outputs": [],
   "source": [
    "X_test = np.vstack([X[subC0], X[subC1], X[subC2], X[subC3], X[subC4]])\n",
    "y_test = np.hstack([y[subC0], y[subC1], y[subC2], y[subC3], y[subC4]])\n",
    "\n",
    "X_train = np.delete(X, [subC0, subC1, subC2, subC3, subC4], axis = 0)\n",
    "y_train = np.delete(y, [subC0, subC1, subC2, subC3, subC4], axis = 0)\n",
    "\n",
    "X_train, y_train = shuffle(X_train, y_train, random_state = 0)\n",
    "X_test, y_test = shuffle(X_test, y_test, random_state = 0)\n",
    "\n",
    "del X\n",
    "del y"
   ]
  },
  {
   "cell_type": "code",
   "execution_count": 20,
   "metadata": {
    "colab": {},
    "colab_type": "code",
    "id": "IHbb3h8EvW1a"
   },
   "outputs": [],
   "source": [
    "X_train = np.expand_dims(X_train, 2)\n",
    "X_test = np.expand_dims(X_test, 2)"
   ]
  },
  {
   "cell_type": "code",
   "execution_count": 21,
   "metadata": {
    "colab": {
     "base_uri": "https://localhost:8080/",
     "height": 90
    },
    "colab_type": "code",
    "id": "QsWOo4iVvW1d",
    "outputId": "ef399af8-807d-4c2d-8ed6-5ffc6600bfee"
   },
   "outputs": [
    {
     "name": "stdout",
     "output_type": "stream",
     "text": [
      "X_train (109150, 187, 1)\n",
      "y_train (109150,)\n",
      "X_test (4000, 187, 1)\n",
      "y_test (4000,)\n"
     ]
    }
   ],
   "source": [
    "print(\"X_train\", X_train.shape)\n",
    "print(\"y_train\", y_train.shape)\n",
    "print(\"X_test\", X_test.shape)\n",
    "print(\"y_test\", y_test.shape)"
   ]
  },
  {
   "cell_type": "code",
   "execution_count": 22,
   "metadata": {
    "colab": {},
    "colab_type": "code",
    "id": "5a-N2AsXvW1h"
   },
   "outputs": [],
   "source": [
    "ohe = OneHotEncoder()\n",
    "y_train = ohe.fit_transform(y_train.reshape(-1, 1))\n",
    "y_test = ohe.transform(y_test.reshape(-1, 1))"
   ]
  },
  {
   "cell_type": "code",
   "execution_count": 23,
   "metadata": {
    "colab": {
     "base_uri": "https://localhost:8080/",
     "height": 90
    },
    "colab_type": "code",
    "id": "u-7wJUkevW1k",
    "outputId": "7a8f7c87-69e0-4c24-b0e2-1e554e7cd09c"
   },
   "outputs": [
    {
     "name": "stdout",
     "output_type": "stream",
     "text": [
      "X_train (109150, 187, 1)\n",
      "y_train (109150, 5)\n",
      "X_test (4000, 187, 1)\n",
      "y_test (4000, 5)\n"
     ]
    }
   ],
   "source": [
    "print(\"X_train\", X_train.shape)\n",
    "print(\"y_train\", y_train.shape)\n",
    "print(\"X_test\", X_test.shape)\n",
    "print(\"y_test\", y_test.shape)"
   ]
  },
  {
   "cell_type": "code",
   "execution_count": 24,
   "metadata": {
    "colab": {},
    "colab_type": "code",
    "id": "EmD_jtgkvW1r"
   },
   "outputs": [],
   "source": [
    "n_obs, feature, depth = X_train.shape\n",
    "batch_size = 500"
   ]
  },
  {
   "cell_type": "markdown",
   "metadata": {},
   "source": [
    "### Model"
   ]
  },
  {
   "cell_type": "code",
   "execution_count": 25,
   "metadata": {
    "colab": {
     "base_uri": "https://localhost:8080/",
     "height": 1000
    },
    "colab_type": "code",
    "id": "W2xgyJaXvW1w",
    "outputId": "335a226d-d2ca-4953-cd35-87335692de6a"
   },
   "outputs": [
    {
     "name": "stderr",
     "output_type": "stream",
     "text": [
      "INFO:plaidml:Opening device \"opencl_amd_hainan.0\"\n"
     ]
    },
    {
     "name": "stdout",
     "output_type": "stream",
     "text": [
      "__________________________________________________________________________________________________\n",
      "Layer (type)                    Output Shape         Param #     Connected to                     \n",
      "==================================================================================================\n",
      "input_1 (InputLayer)            (None, 187, 1)       0                                            \n",
      "__________________________________________________________________________________________________\n",
      "conv1d_1 (Conv1D)               (None, 183, 64)      384         input_1[0][0]                    \n",
      "__________________________________________________________________________________________________\n",
      "conv1d_2 (Conv1D)               (None, 183, 64)      20544       conv1d_1[0][0]                   \n",
      "__________________________________________________________________________________________________\n",
      "activation_1 (Activation)       (None, 183, 64)      0           conv1d_2[0][0]                   \n",
      "__________________________________________________________________________________________________\n",
      "conv1d_3 (Conv1D)               (None, 183, 64)      20544       activation_1[0][0]               \n",
      "__________________________________________________________________________________________________\n",
      "add_1 (Add)                     (None, 183, 64)      0           conv1d_3[0][0]                   \n",
      "                                                                 conv1d_1[0][0]                   \n",
      "__________________________________________________________________________________________________\n",
      "activation_4 (Activation)       (None, 183, 64)      0           add_1[0][0]                      \n",
      "__________________________________________________________________________________________________\n",
      "max_pooling1d_2 (MaxPooling1D)  (None, 90, 64)       0           activation_4[0][0]               \n",
      "__________________________________________________________________________________________________\n",
      "conv1d_6 (Conv1D)               (None, 90, 64)       20544       max_pooling1d_2[0][0]            \n",
      "__________________________________________________________________________________________________\n",
      "activation_5 (Activation)       (None, 90, 64)       0           conv1d_6[0][0]                   \n",
      "__________________________________________________________________________________________________\n",
      "conv1d_7 (Conv1D)               (None, 90, 64)       20544       activation_5[0][0]               \n",
      "__________________________________________________________________________________________________\n",
      "add_3 (Add)                     (None, 90, 64)       0           conv1d_7[0][0]                   \n",
      "                                                                 max_pooling1d_2[0][0]            \n",
      "__________________________________________________________________________________________________\n",
      "activation_6 (Activation)       (None, 90, 64)       0           add_3[0][0]                      \n",
      "__________________________________________________________________________________________________\n",
      "max_pooling1d_3 (MaxPooling1D)  (None, 43, 64)       0           activation_6[0][0]               \n",
      "__________________________________________________________________________________________________\n",
      "conv1d_8 (Conv1D)               (None, 43, 64)       20544       max_pooling1d_3[0][0]            \n",
      "__________________________________________________________________________________________________\n",
      "activation_7 (Activation)       (None, 43, 64)       0           conv1d_8[0][0]                   \n",
      "__________________________________________________________________________________________________\n",
      "conv1d_9 (Conv1D)               (None, 43, 64)       20544       activation_7[0][0]               \n",
      "__________________________________________________________________________________________________\n",
      "add_4 (Add)                     (None, 43, 64)       0           conv1d_9[0][0]                   \n",
      "                                                                 max_pooling1d_3[0][0]            \n",
      "__________________________________________________________________________________________________\n",
      "activation_8 (Activation)       (None, 43, 64)       0           add_4[0][0]                      \n",
      "__________________________________________________________________________________________________\n",
      "max_pooling1d_4 (MaxPooling1D)  (None, 20, 64)       0           activation_8[0][0]               \n",
      "__________________________________________________________________________________________________\n",
      "conv1d_10 (Conv1D)              (None, 20, 64)       20544       max_pooling1d_4[0][0]            \n",
      "__________________________________________________________________________________________________\n",
      "activation_9 (Activation)       (None, 20, 64)       0           conv1d_10[0][0]                  \n",
      "__________________________________________________________________________________________________\n",
      "conv1d_11 (Conv1D)              (None, 20, 64)       20544       activation_9[0][0]               \n",
      "__________________________________________________________________________________________________\n",
      "add_5 (Add)                     (None, 20, 64)       0           conv1d_11[0][0]                  \n",
      "                                                                 max_pooling1d_4[0][0]            \n",
      "__________________________________________________________________________________________________\n",
      "activation_10 (Activation)      (None, 20, 64)       0           add_5[0][0]                      \n",
      "__________________________________________________________________________________________________\n",
      "max_pooling1d_5 (MaxPooling1D)  (None, 8, 64)        0           activation_10[0][0]              \n",
      "__________________________________________________________________________________________________\n",
      "flatten_1 (Flatten)             (None, 512)          0           max_pooling1d_5[0][0]            \n",
      "__________________________________________________________________________________________________\n",
      "dense_1 (Dense)                 (None, 2048)         1050624     flatten_1[0][0]                  \n",
      "__________________________________________________________________________________________________\n",
      "activation_11 (Activation)      (None, 2048)         0           dense_1[0][0]                    \n",
      "__________________________________________________________________________________________________\n",
      "dense_2 (Dense)                 (None, 1024)         2098176     activation_11[0][0]              \n",
      "__________________________________________________________________________________________________\n",
      "dense_3 (Dense)                 (None, 5)            5125        dense_2[0][0]                    \n",
      "__________________________________________________________________________________________________\n",
      "softmax_1 (Softmax)             (None, 5)            0           dense_3[0][0]                    \n",
      "==================================================================================================\n",
      "Total params: 3,318,661\n",
      "Trainable params: 3,318,661\n",
      "Non-trainable params: 0\n",
      "__________________________________________________________________________________________________\n"
     ]
    }
   ],
   "source": [
    "K.clear_session()\n",
    "\n",
    "inp = Input(shape = (feature, depth))\n",
    "C = Conv1D(filters = 64, kernel_size = 5, strides = 1)(inp)\n",
    "\n",
    "C11 = Conv1D(filters = 64, kernel_size = 5, strides = 1, padding = 'same')(C)\n",
    "A11 = Activation(\"tanh\")(C11)\n",
    "C12 = Conv1D(filters = 64, kernel_size = 5, strides = 1, padding = 'same')(A11)\n",
    "S11 = Add()([C12, C])\n",
    "A12 = Activation(\"tanh\")(S11)\n",
    "M11 = MaxPooling1D(pool_size = 5, strides = 2)(A12)\n",
    "\n",
    "\n",
    "C21 = Conv1D(filters = 64, kernel_size = 5, strides = 1, padding = 'same')(M11)\n",
    "A21 = Activation(\"tanh\")(C21)\n",
    "C22 = Conv1D(filters = 64, kernel_size = 5, strides = 1, padding = 'same')(A21)\n",
    "S21 = Add()([C22, M11])\n",
    "A22 = Activation(\"tanh\")(S11)\n",
    "M21 = MaxPooling1D(pool_size = 5, strides = 2)(A22)\n",
    "\n",
    "\n",
    "C31 = Conv1D(filters = 64, kernel_size = 5, strides = 1, padding = 'same')(M21)\n",
    "A31 = Activation(\"tanh\")(C31)\n",
    "C32 = Conv1D(filters = 64, kernel_size = 5, strides = 1, padding = 'same')(A31)\n",
    "S31 = Add()([C32, M21])\n",
    "A32 = Activation(\"tanh\")(S31)\n",
    "M31 = MaxPooling1D(pool_size = 5, strides = 2)(A32)\n",
    "\n",
    "\n",
    "C41 = Conv1D(filters = 64, kernel_size = 5, strides = 1, padding = 'same')(M31)\n",
    "A41 = Activation(\"tanh\")(C41)\n",
    "C42 = Conv1D(filters = 64, kernel_size = 5, strides = 1, padding = 'same')(A41)\n",
    "S41 = Add()([C42, M31])\n",
    "A42 = Activation(\"tanh\")(S41)\n",
    "M41 = MaxPooling1D(pool_size = 5, strides = 2)(A42)\n",
    "\n",
    "\n",
    "C51 = Conv1D(filters = 64, kernel_size = 5, strides = 1, padding = 'same')(M41)\n",
    "A51 = Activation(\"tanh\")(C51)\n",
    "C52 = Conv1D(filters = 64, kernel_size = 5, strides = 1, padding = 'same')(A51)\n",
    "S51 = Add()([C52, M41])\n",
    "A52 = Activation(\"tanh\")(S51)\n",
    "M51 = MaxPooling1D(pool_size = 5, strides = 2)(A52)\n",
    "\n",
    "F1 = Flatten()(M51)\n",
    "\n",
    "D1 = Dense(2048)(F1)\n",
    "A6 = Activation(\"tanh\")(D1)\n",
    "D2 = Dense(1024)(A6)\n",
    "D3 = Dense(5)(D2)\n",
    "A7 = Softmax()(D3)\n",
    "\n",
    "model = Model(inputs = inp, outputs = A7)\n",
    "\n",
    "model.summary()"
   ]
  },
  {
   "cell_type": "markdown",
   "metadata": {},
   "source": [
    "### Save Weights"
   ]
  },
  {
   "cell_type": "code",
   "execution_count": 26,
   "metadata": {
    "colab": {},
    "colab_type": "code",
    "id": "sq2yWiwp2Jrp"
   },
   "outputs": [],
   "source": [
    "checkpoint = ModelCheckpoint(\"heartnet_AMD.h5\", monitor = \"val_acc\", verbose = 1, save_best_only = True, mode = \"auto\")"
   ]
  },
  {
   "cell_type": "code",
   "execution_count": 27,
   "metadata": {
    "colab": {},
    "colab_type": "code",
    "id": "Kd2VsXUbvW18"
   },
   "outputs": [],
   "source": [
    "callbacks = [checkpoint]"
   ]
  },
  {
   "cell_type": "code",
   "execution_count": 28,
   "metadata": {
    "colab": {},
    "colab_type": "code",
    "id": "73fLaXqAvW1_"
   },
   "outputs": [],
   "source": [
    "adam = Adam(lr = 0.001, beta_1 = 0.9, beta_2 = 0.999)"
   ]
  },
  {
   "cell_type": "code",
   "execution_count": 29,
   "metadata": {
    "colab": {},
    "colab_type": "code",
    "id": "TFGjk-7dvW2D"
   },
   "outputs": [],
   "source": [
    "model.compile(loss = 'categorical_crossentropy', optimizer = adam, metrics = ['accuracy'])"
   ]
  },
  {
   "cell_type": "markdown",
   "metadata": {},
   "source": [
    "### Start Training"
   ]
  },
  {
   "cell_type": "code",
   "execution_count": 30,
   "metadata": {
    "colab": {
     "base_uri": "https://localhost:8080/",
     "height": 1000
    },
    "colab_type": "code",
    "id": "cNy8W_B8vW2G",
    "outputId": "72765c55-2da0-425f-d000-8f5bedda45e1",
    "scrolled": false
   },
   "outputs": [
    {
     "name": "stdout",
     "output_type": "stream",
     "text": [
      "Train on 109150 samples, validate on 4000 samples\n",
      "Epoch 1/35\n",
      "109150/109150 [==============================] - 143s 1ms/step - loss: 0.4014 - acc: 0.8894 - val_loss: 0.7712 - val_acc: 0.7185\n",
      "\n",
      "Epoch 00001: val_acc improved from -inf to 0.71850, saving model to heartnet_AMD.h5\n",
      "Epoch 2/35\n",
      "109150/109150 [==============================] - 93s 852us/step - loss: 0.2292 - acc: 0.9359 - val_loss: 0.6633 - val_acc: 0.8018\n",
      "\n",
      "Epoch 00002: val_acc improved from 0.71850 to 0.80175, saving model to heartnet_AMD.h5\n",
      "Epoch 3/35\n",
      "109150/109150 [==============================] - 93s 855us/step - loss: 0.1507 - acc: 0.9575 - val_loss: 0.5827 - val_acc: 0.8008\n",
      "\n",
      "Epoch 00003: val_acc did not improve from 0.80175\n",
      "Epoch 4/35\n",
      "109150/109150 [==============================] - 94s 864us/step - loss: 0.1415 - acc: 0.9606 - val_loss: 0.5858 - val_acc: 0.8235\n",
      "\n",
      "Epoch 00004: val_acc improved from 0.80175 to 0.82350, saving model to heartnet_AMD.h5\n",
      "Epoch 5/35\n",
      "109150/109150 [==============================] - 94s 865us/step - loss: 0.1251 - acc: 0.9649 - val_loss: 0.4141 - val_acc: 0.8708\n",
      "\n",
      "Epoch 00005: val_acc improved from 0.82350 to 0.87075, saving model to heartnet_AMD.h5\n",
      "Epoch 6/35\n",
      "109150/109150 [==============================] - 95s 866us/step - loss: 0.1059 - acc: 0.9702 - val_loss: 0.4333 - val_acc: 0.8663\n",
      "\n",
      "Epoch 00006: val_acc did not improve from 0.87075\n",
      "Epoch 7/35\n",
      "109150/109150 [==============================] - 94s 864us/step - loss: 0.0899 - acc: 0.9744 - val_loss: 0.4861 - val_acc: 0.8693\n",
      "\n",
      "Epoch 00007: val_acc did not improve from 0.87075\n",
      "Epoch 8/35\n",
      "109150/109150 [==============================] - 101s 921us/step - loss: 0.0793 - acc: 0.9776 - val_loss: 0.3773 - val_acc: 0.8820\n",
      "\n",
      "Epoch 00008: val_acc improved from 0.87075 to 0.88200, saving model to heartnet_AMD.h5\n",
      "Epoch 9/35\n",
      "109150/109150 [==============================] - 95s 871us/step - loss: 0.0726 - acc: 0.9791 - val_loss: 0.4018 - val_acc: 0.8698\n",
      "\n",
      "Epoch 00009: val_acc did not improve from 0.88200\n",
      "Epoch 10/35\n",
      "109150/109150 [==============================] - 95s 866us/step - loss: 0.0667 - acc: 0.9804 - val_loss: 0.2857 - val_acc: 0.9085\n",
      "\n",
      "Epoch 00010: val_acc improved from 0.88200 to 0.90850, saving model to heartnet_AMD.h5\n",
      "Epoch 11/35\n",
      "109150/109150 [==============================] - 96s 884us/step - loss: 0.0668 - acc: 0.9802 - val_loss: 0.4729 - val_acc: 0.8708\n",
      "\n",
      "Epoch 00011: val_acc did not improve from 0.90850\n",
      "Epoch 12/35\n",
      "109150/109150 [==============================] - 94s 863us/step - loss: 0.0605 - acc: 0.9818 - val_loss: 0.3655 - val_acc: 0.8930\n",
      "\n",
      "Epoch 00012: val_acc did not improve from 0.90850\n",
      "Epoch 13/35\n",
      "109150/109150 [==============================] - 95s 868us/step - loss: 0.0579 - acc: 0.9823 - val_loss: 0.3661 - val_acc: 0.8823\n",
      "\n",
      "Epoch 00013: val_acc did not improve from 0.90850\n",
      "Epoch 14/35\n",
      "109150/109150 [==============================] - 97s 886us/step - loss: 0.0536 - acc: 0.9836 - val_loss: 0.2720 - val_acc: 0.9153\n",
      "\n",
      "Epoch 00014: val_acc improved from 0.90850 to 0.91525, saving model to heartnet_AMD.h5\n",
      "Epoch 15/35\n",
      "109150/109150 [==============================] - 94s 864us/step - loss: 0.0504 - acc: 0.9846 - val_loss: 0.3173 - val_acc: 0.9013\n",
      "\n",
      "Epoch 00015: val_acc did not improve from 0.91525\n",
      "Epoch 16/35\n",
      "109150/109150 [==============================] - 94s 865us/step - loss: 0.0475 - acc: 0.9853 - val_loss: 0.2769 - val_acc: 0.9188\n",
      "\n",
      "Epoch 00016: val_acc improved from 0.91525 to 0.91875, saving model to heartnet_AMD.h5\n",
      "Epoch 17/35\n",
      "109150/109150 [==============================] - 96s 879us/step - loss: 0.0449 - acc: 0.9860 - val_loss: 0.2726 - val_acc: 0.9198\n",
      "\n",
      "Epoch 00017: val_acc improved from 0.91875 to 0.91975, saving model to heartnet_AMD.h5\n",
      "Epoch 18/35\n",
      "109150/109150 [==============================] - 94s 864us/step - loss: 0.0445 - acc: 0.9861 - val_loss: 0.3494 - val_acc: 0.9033\n",
      "\n",
      "Epoch 00018: val_acc did not improve from 0.91975\n",
      "Epoch 19/35\n",
      "109150/109150 [==============================] - 96s 877us/step - loss: 0.0461 - acc: 0.9854 - val_loss: 0.2124 - val_acc: 0.9320\n",
      "\n",
      "Epoch 00019: val_acc improved from 0.91975 to 0.93200, saving model to heartnet_AMD.h5\n",
      "Epoch 20/35\n",
      "109150/109150 [==============================] - 95s 872us/step - loss: 0.0406 - acc: 0.9871 - val_loss: 0.2289 - val_acc: 0.9365\n",
      "\n",
      "Epoch 00020: val_acc improved from 0.93200 to 0.93650, saving model to heartnet_AMD.h5\n",
      "Epoch 21/35\n",
      "109150/109150 [==============================] - 94s 865us/step - loss: 0.0394 - acc: 0.9874 - val_loss: 0.3456 - val_acc: 0.9058\n",
      "\n",
      "Epoch 00021: val_acc did not improve from 0.93650\n",
      "Epoch 22/35\n",
      "109150/109150 [==============================] - 96s 884us/step - loss: 0.0377 - acc: 0.9881 - val_loss: 0.2111 - val_acc: 0.9328\n",
      "\n",
      "Epoch 00022: val_acc did not improve from 0.93650\n",
      "Epoch 23/35\n",
      "109150/109150 [==============================] - 95s 871us/step - loss: 0.0361 - acc: 0.9882 - val_loss: 0.2811 - val_acc: 0.9250\n",
      "\n",
      "Epoch 00023: val_acc did not improve from 0.93650\n",
      "Epoch 24/35\n",
      "109150/109150 [==============================] - 94s 866us/step - loss: 0.0363 - acc: 0.9883 - val_loss: 0.2669 - val_acc: 0.9178\n",
      "\n",
      "Epoch 00024: val_acc did not improve from 0.93650\n",
      "Epoch 25/35\n",
      "109150/109150 [==============================] - 97s 886us/step - loss: 0.0343 - acc: 0.9890 - val_loss: 0.2494 - val_acc: 0.9145\n",
      "\n",
      "Epoch 00025: val_acc did not improve from 0.93650\n",
      "Epoch 26/35\n",
      "109150/109150 [==============================] - 95s 870us/step - loss: 0.0342 - acc: 0.9890 - val_loss: 0.2455 - val_acc: 0.9278\n",
      "\n",
      "Epoch 00026: val_acc did not improve from 0.93650\n",
      "Epoch 27/35\n",
      "109150/109150 [==============================] - 95s 869us/step - loss: 0.0345 - acc: 0.9890 - val_loss: 0.3348 - val_acc: 0.9113\n",
      "\n",
      "Epoch 00027: val_acc did not improve from 0.93650\n",
      "Epoch 28/35\n",
      "109150/109150 [==============================] - 96s 883us/step - loss: 0.0738 - acc: 0.9783 - val_loss: 0.2486 - val_acc: 0.9230\n",
      "\n",
      "Epoch 00028: val_acc did not improve from 0.93650\n",
      "Epoch 29/35\n",
      "109150/109150 [==============================] - 96s 876us/step - loss: 0.0463 - acc: 0.9858 - val_loss: 0.2072 - val_acc: 0.9335\n",
      "\n",
      "Epoch 00029: val_acc did not improve from 0.93650\n",
      "Epoch 30/35\n",
      "109150/109150 [==============================] - 95s 868us/step - loss: 0.0360 - acc: 0.9889 - val_loss: 0.2374 - val_acc: 0.9305\n",
      "\n",
      "Epoch 00030: val_acc did not improve from 0.93650\n",
      "Epoch 31/35\n",
      "109150/109150 [==============================] - 96s 882us/step - loss: 0.0384 - acc: 0.9876 - val_loss: 0.3403 - val_acc: 0.9045\n",
      "\n",
      "Epoch 00031: val_acc did not improve from 0.93650\n",
      "Epoch 32/35\n",
      "109150/109150 [==============================] - 96s 881us/step - loss: 0.0347 - acc: 0.9887 - val_loss: 0.2166 - val_acc: 0.9300\n",
      "\n",
      "Epoch 00032: val_acc did not improve from 0.93650\n",
      "Epoch 33/35\n",
      "109150/109150 [==============================] - 95s 868us/step - loss: 0.0288 - acc: 0.9904 - val_loss: 0.2752 - val_acc: 0.9335\n",
      "\n",
      "Epoch 00033: val_acc did not improve from 0.93650\n",
      "Epoch 34/35\n",
      "109150/109150 [==============================] - 97s 885us/step - loss: 0.0293 - acc: 0.9907 - val_loss: 0.2169 - val_acc: 0.9433\n",
      "\n",
      "Epoch 00034: val_acc improved from 0.93650 to 0.94325, saving model to heartnet_AMD.h5\n",
      "Epoch 35/35\n",
      "109150/109150 [==============================] - 95s 870us/step - loss: 0.0269 - acc: 0.9909 - val_loss: 0.2928 - val_acc: 0.9308\n",
      "\n",
      "Epoch 00035: val_acc did not improve from 0.94325\n"
     ]
    }
   ],
   "source": [
    "history = model.fit(X_train, y_train, \n",
    "                    epochs = 35, \n",
    "                    batch_size = batch_size, \n",
    "                    verbose = 1, \n",
    "                    validation_data = (X_test, y_test), \n",
    "                    callbacks = callbacks)"
   ]
  },
  {
   "cell_type": "code",
   "execution_count": 31,
   "metadata": {
    "colab": {
     "base_uri": "https://localhost:8080/",
     "height": 298
    },
    "colab_type": "code",
    "id": "kDWzo_7jvW2J",
    "outputId": "18ac2328-6704-4d9d-d748-4448db8e51c5"
   },
   "outputs": [
    {
     "data": {
      "text/plain": [
       "Text(0, 0.5, 'Accuracy')"
      ]
     },
     "execution_count": 31,
     "metadata": {},
     "output_type": "execute_result"
    },
    {
     "data": {
      "image/png": "[encoded data removed]",
      "text/plain": [
       "<Figure size 432x288 with 1 Axes>"
      ]
     },
     "metadata": {
      "needs_background": "light"
     },
     "output_type": "display_data"
    }
   ],
   "source": [
    "plt.plot(history.history[\"acc\"])\n",
    "plt.plot(history.history[\"val_acc\"])\n",
    "\n",
    "plt.legend(['Training Accuracy', 'Validation Accuracy'], loc = \"lower right\")\n",
    "plt.title(\"Model Accuracy\")\n",
    "plt.xlabel(\"Epochs\")\n",
    "plt.ylabel(\"Accuracy\")"
   ]
  },
  {
   "cell_type": "code",
   "execution_count": 32,
   "metadata": {
    "colab": {
     "base_uri": "https://localhost:8080/",
     "height": 297
    },
    "colab_type": "code",
    "id": "4pMBB2JzvW2N",
    "outputId": "2fd06848-92d9-4b2a-832f-030cb3d1ddb4"
   },
   "outputs": [
    {
     "data": {
      "text/plain": [
       "Text(0, 0.5, 'Loss')"
      ]
     },
     "execution_count": 32,
     "metadata": {},
     "output_type": "execute_result"
    },
    {
     "data": {
      "image/png": "[encoded data removed]",
      "text/plain": [
       "<Figure size 432x288 with 1 Axes>"
      ]
     },
     "metadata": {
      "needs_background": "light"
     },
     "output_type": "display_data"
    }
   ],
   "source": [
    "plt.plot(history.history[\"loss\"])\n",
    "plt.plot(history.history[\"val_loss\"])\n",
    "\n",
    "plt.legend(['Training Loss', 'Validation Loss'], loc = \"upper right\")\n",
    "plt.title(\"Model Loss\")\n",
    "plt.xlabel(\"Epochs\")\n",
    "plt.ylabel(\"Loss\")"
   ]
  },
  {
   "cell_type": "markdown",
   "metadata": {},
   "source": [
    "### Evaluate the Model"
   ]
  },
  {
   "cell_type": "code",
   "execution_count": 35,
   "metadata": {
    "colab": {},
    "colab_type": "code",
    "id": "GQiqzh-DvW2R"
   },
   "outputs": [],
   "source": [
    "y_pred = model.predict(X_test, batch_size = 1000)"
   ]
  },
  {
   "cell_type": "code",
   "execution_count": 36,
   "metadata": {
    "colab": {
     "base_uri": "https://localhost:8080/",
     "height": 235
    },
    "colab_type": "code",
    "id": "y0kLxGaivW2U",
    "outputId": "b205c9f2-7026-44c5-cb4e-476211b79a35"
   },
   "outputs": [
    {
     "name": "stdout",
     "output_type": "stream",
     "text": [
      "              precision    recall  f1-score   support\n",
      "\n",
      "           0       0.80      0.99      0.88       800\n",
      "           1       1.00      0.82      0.90       800\n",
      "           2       0.93      0.94      0.94       800\n",
      "           3       0.99      0.90      0.94       800\n",
      "           4       0.99      0.99      0.99       800\n",
      "\n",
      "    accuracy                           0.93      4000\n",
      "   macro avg       0.94      0.93      0.93      4000\n",
      "weighted avg       0.94      0.93      0.93      4000\n",
      "\n"
     ]
    }
   ],
   "source": [
    "print(classification_report(y_test.argmax(axis = 1), y_pred.argmax(axis = 1)))"
   ]
  },
  {
   "cell_type": "code",
   "execution_count": 37,
   "metadata": {
    "colab": {
     "base_uri": "https://localhost:8080/",
     "height": 72
    },
    "colab_type": "code",
    "id": "LPwzpwJ0vW2X",
    "outputId": "f434b717-9455-4d40-8b32-dfdba6bc657e"
   },
   "outputs": [
    {
     "name": "stdout",
     "output_type": "stream",
     "text": [
      "ranking-based average precision : 0.963\n",
      "Ranking loss : 0.021\n",
      "Coverage_error : 1.086\n"
     ]
    }
   ],
   "source": [
    "print(\"ranking-based average precision : {:.3f}\".format(label_ranking_average_precision_score(y_test.todense(), y_pred)))\n",
    "print(\"Ranking loss : {:.3f}\".format(label_ranking_loss(y_test.todense(), y_pred)))\n",
    "print(\"Coverage_error : {:.3f}\".format(coverage_error(y_test.todense(), y_pred)))"
   ]
  },
  {
   "cell_type": "markdown",
   "metadata": {},
   "source": [
    "### Plot Confusion Matrix"
   ]
  },
  {
   "cell_type": "code",
   "execution_count": 38,
   "metadata": {
    "colab": {},
    "colab_type": "code",
    "id": "Ieag0UWEvW2Z"
   },
   "outputs": [],
   "source": [
    "def plot_confusion_matrix(cm, classes,\n",
    "                          normalize = False,\n",
    "                          title = 'Confusion matrix',\n",
    "                          cmap = plt.cm.Blues):\n",
    "    \"\"\"\n",
    "    This function prints and plots the confusion matrix.\n",
    "    Normalization can be applied by setting `normalize=True`.\n",
    "    \"\"\"\n",
    "    if normalize:\n",
    "        cm = cm.astype('float') / cm.sum(axis = 1)[:, np.newaxis]\n",
    "        print(\"Normalized confusion matrix\")\n",
    "    else:\n",
    "        print('Confusion matrix, without normalization')\n",
    "\n",
    "    plt.imshow(cm, interpolation = 'nearest', cmap = cmap)\n",
    "    plt.title(title)\n",
    "    plt.colorbar()\n",
    "    tick_marks = np.arange(len(classes))\n",
    "    plt.xticks(tick_marks, classes, rotation = 45)\n",
    "    plt.yticks(tick_marks, classes)\n",
    "\n",
    "    fmt = '.2f' if normalize else 'd'\n",
    "    thresh = cm.max() / 2.\n",
    "    for i, j in itertools.product(range(cm.shape[0]), range(cm.shape[1])):\n",
    "        plt.text(j, i, format(cm[i, j], fmt),\n",
    "                 horizontalalignment = \"center\",\n",
    "                 color = \"white\" if cm[i, j] > thresh else \"black\")\n",
    "\n",
    "    plt.tight_layout()\n",
    "    plt.ylabel('True label')\n",
    "    plt.xlabel('Predicted label')"
   ]
  },
  {
   "cell_type": "code",
   "execution_count": 39,
   "metadata": {
    "colab": {},
    "colab_type": "code",
    "id": "YuFqJIFzvW2d"
   },
   "outputs": [],
   "source": [
    "# Compute confusion matrix\n",
    "cnf_matrix = confusion_matrix(y_test.argmax(axis = 1), y_pred.argmax(axis = 1))\n",
    "np.set_printoptions(precision = 2)"
   ]
  },
  {
   "cell_type": "code",
   "execution_count": 40,
   "metadata": {
    "colab": {
     "base_uri": "https://localhost:8080/",
     "height": 747
    },
    "colab_type": "code",
    "id": "rd8geLB6vW2g",
    "outputId": "f6c2091e-6d00-49a6-cefb-f6e95b47342a"
   },
   "outputs": [
    {
     "name": "stdout",
     "output_type": "stream",
     "text": [
      "Confusion matrix, without normalization\n"
     ]
    },
    {
     "data": {
      "image/png": "[encoded data removed]",
      "text/plain": [
       "<Figure size 720x720 with 2 Axes>"
      ]
     },
     "metadata": {
      "needs_background": "light"
     },
     "output_type": "display_data"
    }
   ],
   "source": [
    "# Plot non-normalized confusion matrix\n",
    "plt.figure(figsize = (10, 10))\n",
    "plot_confusion_matrix(cnf_matrix, classes = ['N', 'S', 'V', 'F', 'Q'],\n",
    "                      title = 'Confusion matrix, without normalization')\n",
    "plt.show()"
   ]
  },
  {
   "cell_type": "code",
   "execution_count": null,
   "metadata": {},
   "outputs": [],
   "source": []
  }
 ],
 "metadata": {
  "accelerator": "GPU",
  "colab": {
   "collapsed_sections": [],
   "name": "Heart Disease Classification.ipynb",
   "provenance": []
  },
  "kernelspec": {
   "display_name": "Python 3",
   "language": "python",
   "name": "python3"
  },
  "language_info": {
   "codemirror_mode": {
    "name": "ipython",
    "version": 3
   },
   "file_extension": ".py",
   "mimetype": "text/x-python",
   "name": "python",
   "nbconvert_exporter": "python",
   "pygments_lexer": "ipython3",
   "version": "3.7.6"
  }
 },
 "nbformat": 4,
 "nbformat_minor": 1
}
